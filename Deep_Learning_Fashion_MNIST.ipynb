{
  "nbformat": 4,
  "nbformat_minor": 0,
  "metadata": {
    "colab": {
      "name": "BuildwithRushiep7.ipynb",
      "provenance": [],
      "collapsed_sections": [],
      "toc_visible": true,
      "authorship_tag": "ABX9TyNQTUkYiB4ebjVCiG1zkzih"
    },
    "kernelspec": {
      "name": "python3",
      "display_name": "Python 3"
    },
    "accelerator": "GPU",
    "widgets": {
      "application/vnd.jupyter.widget-state+json": {
        "6df8b207b7a64772b9ed380e9e0fb9ce": {
          "model_module": "@jupyter-widgets/controls",
          "model_name": "HBoxModel",
          "state": {
            "_view_name": "HBoxView",
            "_dom_classes": [],
            "_model_name": "HBoxModel",
            "_view_module": "@jupyter-widgets/controls",
            "_model_module_version": "1.5.0",
            "_view_count": null,
            "_view_module_version": "1.5.0",
            "box_style": "",
            "layout": "IPY_MODEL_9209a3bfd5b143e7acabe8b642ad8aad",
            "_model_module": "@jupyter-widgets/controls",
            "children": [
              "IPY_MODEL_6edd5af77ae64107bca10a0ea1cac2f7",
              "IPY_MODEL_e93e7dc2c5cd481cbb8591752c5f4c63"
            ]
          }
        },
        "9209a3bfd5b143e7acabe8b642ad8aad": {
          "model_module": "@jupyter-widgets/base",
          "model_name": "LayoutModel",
          "state": {
            "_view_name": "LayoutView",
            "grid_template_rows": null,
            "right": null,
            "justify_content": null,
            "_view_module": "@jupyter-widgets/base",
            "overflow": null,
            "_model_module_version": "1.2.0",
            "_view_count": null,
            "flex_flow": null,
            "width": null,
            "min_width": null,
            "border": null,
            "align_items": null,
            "bottom": null,
            "_model_module": "@jupyter-widgets/base",
            "top": null,
            "grid_column": null,
            "overflow_y": null,
            "overflow_x": null,
            "grid_auto_flow": null,
            "grid_area": null,
            "grid_template_columns": null,
            "flex": null,
            "_model_name": "LayoutModel",
            "justify_items": null,
            "grid_row": null,
            "max_height": null,
            "align_content": null,
            "visibility": null,
            "align_self": null,
            "height": null,
            "min_height": null,
            "padding": null,
            "grid_auto_rows": null,
            "grid_gap": null,
            "max_width": null,
            "order": null,
            "_view_module_version": "1.2.0",
            "grid_template_areas": null,
            "object_position": null,
            "object_fit": null,
            "grid_auto_columns": null,
            "margin": null,
            "display": null,
            "left": null
          }
        },
        "6edd5af77ae64107bca10a0ea1cac2f7": {
          "model_module": "@jupyter-widgets/controls",
          "model_name": "FloatProgressModel",
          "state": {
            "_view_name": "ProgressView",
            "style": "IPY_MODEL_4d6ad338b4274974960547c529a08aac",
            "_dom_classes": [],
            "description": "Dl Completed...: 100%",
            "_model_name": "FloatProgressModel",
            "bar_style": "success",
            "max": 1,
            "_view_module": "@jupyter-widgets/controls",
            "_model_module_version": "1.5.0",
            "value": 1,
            "_view_count": null,
            "_view_module_version": "1.5.0",
            "orientation": "horizontal",
            "min": 0,
            "description_tooltip": null,
            "_model_module": "@jupyter-widgets/controls",
            "layout": "IPY_MODEL_49b04becd618405ba47d86eebd7b31c2"
          }
        },
        "e93e7dc2c5cd481cbb8591752c5f4c63": {
          "model_module": "@jupyter-widgets/controls",
          "model_name": "HTMLModel",
          "state": {
            "_view_name": "HTMLView",
            "style": "IPY_MODEL_d4c36f2263174b438f28ab3986c8efe8",
            "_dom_classes": [],
            "description": "",
            "_model_name": "HTMLModel",
            "placeholder": "​",
            "_view_module": "@jupyter-widgets/controls",
            "_model_module_version": "1.5.0",
            "value": " 4/4 [00:02&lt;00:00,  1.83 url/s]",
            "_view_count": null,
            "_view_module_version": "1.5.0",
            "description_tooltip": null,
            "_model_module": "@jupyter-widgets/controls",
            "layout": "IPY_MODEL_256667900f254c8f8e35af2deb61ebfe"
          }
        },
        "4d6ad338b4274974960547c529a08aac": {
          "model_module": "@jupyter-widgets/controls",
          "model_name": "ProgressStyleModel",
          "state": {
            "_view_name": "StyleView",
            "_model_name": "ProgressStyleModel",
            "description_width": "initial",
            "_view_module": "@jupyter-widgets/base",
            "_model_module_version": "1.5.0",
            "_view_count": null,
            "_view_module_version": "1.2.0",
            "bar_color": null,
            "_model_module": "@jupyter-widgets/controls"
          }
        },
        "49b04becd618405ba47d86eebd7b31c2": {
          "model_module": "@jupyter-widgets/base",
          "model_name": "LayoutModel",
          "state": {
            "_view_name": "LayoutView",
            "grid_template_rows": null,
            "right": null,
            "justify_content": null,
            "_view_module": "@jupyter-widgets/base",
            "overflow": null,
            "_model_module_version": "1.2.0",
            "_view_count": null,
            "flex_flow": null,
            "width": null,
            "min_width": null,
            "border": null,
            "align_items": null,
            "bottom": null,
            "_model_module": "@jupyter-widgets/base",
            "top": null,
            "grid_column": null,
            "overflow_y": null,
            "overflow_x": null,
            "grid_auto_flow": null,
            "grid_area": null,
            "grid_template_columns": null,
            "flex": null,
            "_model_name": "LayoutModel",
            "justify_items": null,
            "grid_row": null,
            "max_height": null,
            "align_content": null,
            "visibility": null,
            "align_self": null,
            "height": null,
            "min_height": null,
            "padding": null,
            "grid_auto_rows": null,
            "grid_gap": null,
            "max_width": null,
            "order": null,
            "_view_module_version": "1.2.0",
            "grid_template_areas": null,
            "object_position": null,
            "object_fit": null,
            "grid_auto_columns": null,
            "margin": null,
            "display": null,
            "left": null
          }
        },
        "d4c36f2263174b438f28ab3986c8efe8": {
          "model_module": "@jupyter-widgets/controls",
          "model_name": "DescriptionStyleModel",
          "state": {
            "_view_name": "StyleView",
            "_model_name": "DescriptionStyleModel",
            "description_width": "",
            "_view_module": "@jupyter-widgets/base",
            "_model_module_version": "1.5.0",
            "_view_count": null,
            "_view_module_version": "1.2.0",
            "_model_module": "@jupyter-widgets/controls"
          }
        },
        "256667900f254c8f8e35af2deb61ebfe": {
          "model_module": "@jupyter-widgets/base",
          "model_name": "LayoutModel",
          "state": {
            "_view_name": "LayoutView",
            "grid_template_rows": null,
            "right": null,
            "justify_content": null,
            "_view_module": "@jupyter-widgets/base",
            "overflow": null,
            "_model_module_version": "1.2.0",
            "_view_count": null,
            "flex_flow": null,
            "width": null,
            "min_width": null,
            "border": null,
            "align_items": null,
            "bottom": null,
            "_model_module": "@jupyter-widgets/base",
            "top": null,
            "grid_column": null,
            "overflow_y": null,
            "overflow_x": null,
            "grid_auto_flow": null,
            "grid_area": null,
            "grid_template_columns": null,
            "flex": null,
            "_model_name": "LayoutModel",
            "justify_items": null,
            "grid_row": null,
            "max_height": null,
            "align_content": null,
            "visibility": null,
            "align_self": null,
            "height": null,
            "min_height": null,
            "padding": null,
            "grid_auto_rows": null,
            "grid_gap": null,
            "max_width": null,
            "order": null,
            "_view_module_version": "1.2.0",
            "grid_template_areas": null,
            "object_position": null,
            "object_fit": null,
            "grid_auto_columns": null,
            "margin": null,
            "display": null,
            "left": null
          }
        },
        "be1987653a2247878c7a942732c64065": {
          "model_module": "@jupyter-widgets/controls",
          "model_name": "HBoxModel",
          "state": {
            "_view_name": "HBoxView",
            "_dom_classes": [],
            "_model_name": "HBoxModel",
            "_view_module": "@jupyter-widgets/controls",
            "_model_module_version": "1.5.0",
            "_view_count": null,
            "_view_module_version": "1.5.0",
            "box_style": "",
            "layout": "IPY_MODEL_a4db6d79b38146aaac908b1c0c3ebec9",
            "_model_module": "@jupyter-widgets/controls",
            "children": [
              "IPY_MODEL_0cb67da9880844f2a15532cabc6a18f2",
              "IPY_MODEL_095c4de518e2449b84a35a29a93bb36a"
            ]
          }
        },
        "a4db6d79b38146aaac908b1c0c3ebec9": {
          "model_module": "@jupyter-widgets/base",
          "model_name": "LayoutModel",
          "state": {
            "_view_name": "LayoutView",
            "grid_template_rows": null,
            "right": null,
            "justify_content": null,
            "_view_module": "@jupyter-widgets/base",
            "overflow": null,
            "_model_module_version": "1.2.0",
            "_view_count": null,
            "flex_flow": null,
            "width": null,
            "min_width": null,
            "border": null,
            "align_items": null,
            "bottom": null,
            "_model_module": "@jupyter-widgets/base",
            "top": null,
            "grid_column": null,
            "overflow_y": null,
            "overflow_x": null,
            "grid_auto_flow": null,
            "grid_area": null,
            "grid_template_columns": null,
            "flex": null,
            "_model_name": "LayoutModel",
            "justify_items": null,
            "grid_row": null,
            "max_height": null,
            "align_content": null,
            "visibility": null,
            "align_self": null,
            "height": null,
            "min_height": null,
            "padding": null,
            "grid_auto_rows": null,
            "grid_gap": null,
            "max_width": null,
            "order": null,
            "_view_module_version": "1.2.0",
            "grid_template_areas": null,
            "object_position": null,
            "object_fit": null,
            "grid_auto_columns": null,
            "margin": null,
            "display": null,
            "left": null
          }
        },
        "0cb67da9880844f2a15532cabc6a18f2": {
          "model_module": "@jupyter-widgets/controls",
          "model_name": "FloatProgressModel",
          "state": {
            "_view_name": "ProgressView",
            "style": "IPY_MODEL_ca1f5128ab2d4324a552cc10481184aa",
            "_dom_classes": [],
            "description": "Dl Size...: 100%",
            "_model_name": "FloatProgressModel",
            "bar_style": "success",
            "max": 1,
            "_view_module": "@jupyter-widgets/controls",
            "_model_module_version": "1.5.0",
            "value": 1,
            "_view_count": null,
            "_view_module_version": "1.5.0",
            "orientation": "horizontal",
            "min": 0,
            "description_tooltip": null,
            "_model_module": "@jupyter-widgets/controls",
            "layout": "IPY_MODEL_c456137aa8cd4180ae8633545b58053a"
          }
        },
        "095c4de518e2449b84a35a29a93bb36a": {
          "model_module": "@jupyter-widgets/controls",
          "model_name": "HTMLModel",
          "state": {
            "_view_name": "HTMLView",
            "style": "IPY_MODEL_5e07c3869b9343958ef93ae8a5c489e1",
            "_dom_classes": [],
            "description": "",
            "_model_name": "HTMLModel",
            "placeholder": "​",
            "_view_module": "@jupyter-widgets/controls",
            "_model_module_version": "1.5.0",
            "value": " 29/29 [00:02&lt;00:00, 13.43 MiB/s]",
            "_view_count": null,
            "_view_module_version": "1.5.0",
            "description_tooltip": null,
            "_model_module": "@jupyter-widgets/controls",
            "layout": "IPY_MODEL_77c49e8186ce4d2da1539b1f1a76d578"
          }
        },
        "ca1f5128ab2d4324a552cc10481184aa": {
          "model_module": "@jupyter-widgets/controls",
          "model_name": "ProgressStyleModel",
          "state": {
            "_view_name": "StyleView",
            "_model_name": "ProgressStyleModel",
            "description_width": "initial",
            "_view_module": "@jupyter-widgets/base",
            "_model_module_version": "1.5.0",
            "_view_count": null,
            "_view_module_version": "1.2.0",
            "bar_color": null,
            "_model_module": "@jupyter-widgets/controls"
          }
        },
        "c456137aa8cd4180ae8633545b58053a": {
          "model_module": "@jupyter-widgets/base",
          "model_name": "LayoutModel",
          "state": {
            "_view_name": "LayoutView",
            "grid_template_rows": null,
            "right": null,
            "justify_content": null,
            "_view_module": "@jupyter-widgets/base",
            "overflow": null,
            "_model_module_version": "1.2.0",
            "_view_count": null,
            "flex_flow": null,
            "width": null,
            "min_width": null,
            "border": null,
            "align_items": null,
            "bottom": null,
            "_model_module": "@jupyter-widgets/base",
            "top": null,
            "grid_column": null,
            "overflow_y": null,
            "overflow_x": null,
            "grid_auto_flow": null,
            "grid_area": null,
            "grid_template_columns": null,
            "flex": null,
            "_model_name": "LayoutModel",
            "justify_items": null,
            "grid_row": null,
            "max_height": null,
            "align_content": null,
            "visibility": null,
            "align_self": null,
            "height": null,
            "min_height": null,
            "padding": null,
            "grid_auto_rows": null,
            "grid_gap": null,
            "max_width": null,
            "order": null,
            "_view_module_version": "1.2.0",
            "grid_template_areas": null,
            "object_position": null,
            "object_fit": null,
            "grid_auto_columns": null,
            "margin": null,
            "display": null,
            "left": null
          }
        },
        "5e07c3869b9343958ef93ae8a5c489e1": {
          "model_module": "@jupyter-widgets/controls",
          "model_name": "DescriptionStyleModel",
          "state": {
            "_view_name": "StyleView",
            "_model_name": "DescriptionStyleModel",
            "description_width": "",
            "_view_module": "@jupyter-widgets/base",
            "_model_module_version": "1.5.0",
            "_view_count": null,
            "_view_module_version": "1.2.0",
            "_model_module": "@jupyter-widgets/controls"
          }
        },
        "77c49e8186ce4d2da1539b1f1a76d578": {
          "model_module": "@jupyter-widgets/base",
          "model_name": "LayoutModel",
          "state": {
            "_view_name": "LayoutView",
            "grid_template_rows": null,
            "right": null,
            "justify_content": null,
            "_view_module": "@jupyter-widgets/base",
            "overflow": null,
            "_model_module_version": "1.2.0",
            "_view_count": null,
            "flex_flow": null,
            "width": null,
            "min_width": null,
            "border": null,
            "align_items": null,
            "bottom": null,
            "_model_module": "@jupyter-widgets/base",
            "top": null,
            "grid_column": null,
            "overflow_y": null,
            "overflow_x": null,
            "grid_auto_flow": null,
            "grid_area": null,
            "grid_template_columns": null,
            "flex": null,
            "_model_name": "LayoutModel",
            "justify_items": null,
            "grid_row": null,
            "max_height": null,
            "align_content": null,
            "visibility": null,
            "align_self": null,
            "height": null,
            "min_height": null,
            "padding": null,
            "grid_auto_rows": null,
            "grid_gap": null,
            "max_width": null,
            "order": null,
            "_view_module_version": "1.2.0",
            "grid_template_areas": null,
            "object_position": null,
            "object_fit": null,
            "grid_auto_columns": null,
            "margin": null,
            "display": null,
            "left": null
          }
        },
        "b94defe408dd496a9dcc9c7d7a4cb4cf": {
          "model_module": "@jupyter-widgets/controls",
          "model_name": "HBoxModel",
          "state": {
            "_view_name": "HBoxView",
            "_dom_classes": [],
            "_model_name": "HBoxModel",
            "_view_module": "@jupyter-widgets/controls",
            "_model_module_version": "1.5.0",
            "_view_count": null,
            "_view_module_version": "1.5.0",
            "box_style": "",
            "layout": "IPY_MODEL_a93ace3f4c444e7bb5c2c970caf9bfa1",
            "_model_module": "@jupyter-widgets/controls",
            "children": [
              "IPY_MODEL_2c501b2b05f340b5ab6e152642d6ca15",
              "IPY_MODEL_059e28a0b9e3498bac687046090e2c56"
            ]
          }
        },
        "a93ace3f4c444e7bb5c2c970caf9bfa1": {
          "model_module": "@jupyter-widgets/base",
          "model_name": "LayoutModel",
          "state": {
            "_view_name": "LayoutView",
            "grid_template_rows": null,
            "right": null,
            "justify_content": null,
            "_view_module": "@jupyter-widgets/base",
            "overflow": null,
            "_model_module_version": "1.2.0",
            "_view_count": null,
            "flex_flow": null,
            "width": null,
            "min_width": null,
            "border": null,
            "align_items": null,
            "bottom": null,
            "_model_module": "@jupyter-widgets/base",
            "top": null,
            "grid_column": null,
            "overflow_y": null,
            "overflow_x": null,
            "grid_auto_flow": null,
            "grid_area": null,
            "grid_template_columns": null,
            "flex": null,
            "_model_name": "LayoutModel",
            "justify_items": null,
            "grid_row": null,
            "max_height": null,
            "align_content": null,
            "visibility": null,
            "align_self": null,
            "height": null,
            "min_height": null,
            "padding": null,
            "grid_auto_rows": null,
            "grid_gap": null,
            "max_width": null,
            "order": null,
            "_view_module_version": "1.2.0",
            "grid_template_areas": null,
            "object_position": null,
            "object_fit": null,
            "grid_auto_columns": null,
            "margin": null,
            "display": null,
            "left": null
          }
        },
        "2c501b2b05f340b5ab6e152642d6ca15": {
          "model_module": "@jupyter-widgets/controls",
          "model_name": "FloatProgressModel",
          "state": {
            "_view_name": "ProgressView",
            "style": "IPY_MODEL_1815d80342234325b246a8d9b75940b0",
            "_dom_classes": [],
            "description": "Extraction completed...: 100%",
            "_model_name": "FloatProgressModel",
            "bar_style": "success",
            "max": 1,
            "_view_module": "@jupyter-widgets/controls",
            "_model_module_version": "1.5.0",
            "value": 1,
            "_view_count": null,
            "_view_module_version": "1.5.0",
            "orientation": "horizontal",
            "min": 0,
            "description_tooltip": null,
            "_model_module": "@jupyter-widgets/controls",
            "layout": "IPY_MODEL_e5b4b7f0de224384bf808c8e88f77942"
          }
        },
        "059e28a0b9e3498bac687046090e2c56": {
          "model_module": "@jupyter-widgets/controls",
          "model_name": "HTMLModel",
          "state": {
            "_view_name": "HTMLView",
            "style": "IPY_MODEL_bbabbd38611c4e8f97540c8989d6ada1",
            "_dom_classes": [],
            "description": "",
            "_model_name": "HTMLModel",
            "placeholder": "​",
            "_view_module": "@jupyter-widgets/controls",
            "_model_module_version": "1.5.0",
            "value": " 4/4 [00:02&lt;00:00,  1.88 file/s]",
            "_view_count": null,
            "_view_module_version": "1.5.0",
            "description_tooltip": null,
            "_model_module": "@jupyter-widgets/controls",
            "layout": "IPY_MODEL_b4d160dc082341ca98f0ec69cab6bd88"
          }
        },
        "1815d80342234325b246a8d9b75940b0": {
          "model_module": "@jupyter-widgets/controls",
          "model_name": "ProgressStyleModel",
          "state": {
            "_view_name": "StyleView",
            "_model_name": "ProgressStyleModel",
            "description_width": "initial",
            "_view_module": "@jupyter-widgets/base",
            "_model_module_version": "1.5.0",
            "_view_count": null,
            "_view_module_version": "1.2.0",
            "bar_color": null,
            "_model_module": "@jupyter-widgets/controls"
          }
        },
        "e5b4b7f0de224384bf808c8e88f77942": {
          "model_module": "@jupyter-widgets/base",
          "model_name": "LayoutModel",
          "state": {
            "_view_name": "LayoutView",
            "grid_template_rows": null,
            "right": null,
            "justify_content": null,
            "_view_module": "@jupyter-widgets/base",
            "overflow": null,
            "_model_module_version": "1.2.0",
            "_view_count": null,
            "flex_flow": null,
            "width": null,
            "min_width": null,
            "border": null,
            "align_items": null,
            "bottom": null,
            "_model_module": "@jupyter-widgets/base",
            "top": null,
            "grid_column": null,
            "overflow_y": null,
            "overflow_x": null,
            "grid_auto_flow": null,
            "grid_area": null,
            "grid_template_columns": null,
            "flex": null,
            "_model_name": "LayoutModel",
            "justify_items": null,
            "grid_row": null,
            "max_height": null,
            "align_content": null,
            "visibility": null,
            "align_self": null,
            "height": null,
            "min_height": null,
            "padding": null,
            "grid_auto_rows": null,
            "grid_gap": null,
            "max_width": null,
            "order": null,
            "_view_module_version": "1.2.0",
            "grid_template_areas": null,
            "object_position": null,
            "object_fit": null,
            "grid_auto_columns": null,
            "margin": null,
            "display": null,
            "left": null
          }
        },
        "bbabbd38611c4e8f97540c8989d6ada1": {
          "model_module": "@jupyter-widgets/controls",
          "model_name": "DescriptionStyleModel",
          "state": {
            "_view_name": "StyleView",
            "_model_name": "DescriptionStyleModel",
            "description_width": "",
            "_view_module": "@jupyter-widgets/base",
            "_model_module_version": "1.5.0",
            "_view_count": null,
            "_view_module_version": "1.2.0",
            "_model_module": "@jupyter-widgets/controls"
          }
        },
        "b4d160dc082341ca98f0ec69cab6bd88": {
          "model_module": "@jupyter-widgets/base",
          "model_name": "LayoutModel",
          "state": {
            "_view_name": "LayoutView",
            "grid_template_rows": null,
            "right": null,
            "justify_content": null,
            "_view_module": "@jupyter-widgets/base",
            "overflow": null,
            "_model_module_version": "1.2.0",
            "_view_count": null,
            "flex_flow": null,
            "width": null,
            "min_width": null,
            "border": null,
            "align_items": null,
            "bottom": null,
            "_model_module": "@jupyter-widgets/base",
            "top": null,
            "grid_column": null,
            "overflow_y": null,
            "overflow_x": null,
            "grid_auto_flow": null,
            "grid_area": null,
            "grid_template_columns": null,
            "flex": null,
            "_model_name": "LayoutModel",
            "justify_items": null,
            "grid_row": null,
            "max_height": null,
            "align_content": null,
            "visibility": null,
            "align_self": null,
            "height": null,
            "min_height": null,
            "padding": null,
            "grid_auto_rows": null,
            "grid_gap": null,
            "max_width": null,
            "order": null,
            "_view_module_version": "1.2.0",
            "grid_template_areas": null,
            "object_position": null,
            "object_fit": null,
            "grid_auto_columns": null,
            "margin": null,
            "display": null,
            "left": null
          }
        },
        "09a834d41ca04802a315abad3e4352f9": {
          "model_module": "@jupyter-widgets/controls",
          "model_name": "HBoxModel",
          "state": {
            "_view_name": "HBoxView",
            "_dom_classes": [],
            "_model_name": "HBoxModel",
            "_view_module": "@jupyter-widgets/controls",
            "_model_module_version": "1.5.0",
            "_view_count": null,
            "_view_module_version": "1.5.0",
            "box_style": "",
            "layout": "IPY_MODEL_0216e84586914247bc656063fe5e1b09",
            "_model_module": "@jupyter-widgets/controls",
            "children": [
              "IPY_MODEL_4d5805d630604052aa62406d44445704",
              "IPY_MODEL_0ea3b41de6714b94a27ec2b81f6e9c93"
            ]
          }
        },
        "0216e84586914247bc656063fe5e1b09": {
          "model_module": "@jupyter-widgets/base",
          "model_name": "LayoutModel",
          "state": {
            "_view_name": "LayoutView",
            "grid_template_rows": null,
            "right": null,
            "justify_content": null,
            "_view_module": "@jupyter-widgets/base",
            "overflow": null,
            "_model_module_version": "1.2.0",
            "_view_count": null,
            "flex_flow": null,
            "width": null,
            "min_width": null,
            "border": null,
            "align_items": null,
            "bottom": null,
            "_model_module": "@jupyter-widgets/base",
            "top": null,
            "grid_column": null,
            "overflow_y": null,
            "overflow_x": null,
            "grid_auto_flow": null,
            "grid_area": null,
            "grid_template_columns": null,
            "flex": null,
            "_model_name": "LayoutModel",
            "justify_items": null,
            "grid_row": null,
            "max_height": null,
            "align_content": null,
            "visibility": null,
            "align_self": null,
            "height": null,
            "min_height": null,
            "padding": null,
            "grid_auto_rows": null,
            "grid_gap": null,
            "max_width": null,
            "order": null,
            "_view_module_version": "1.2.0",
            "grid_template_areas": null,
            "object_position": null,
            "object_fit": null,
            "grid_auto_columns": null,
            "margin": null,
            "display": null,
            "left": null
          }
        },
        "4d5805d630604052aa62406d44445704": {
          "model_module": "@jupyter-widgets/controls",
          "model_name": "FloatProgressModel",
          "state": {
            "_view_name": "ProgressView",
            "style": "IPY_MODEL_6eb5e1a43fa040b5a9869a2b217c3601",
            "_dom_classes": [],
            "description": "",
            "_model_name": "FloatProgressModel",
            "bar_style": "info",
            "max": 1,
            "_view_module": "@jupyter-widgets/controls",
            "_model_module_version": "1.5.0",
            "value": 1,
            "_view_count": null,
            "_view_module_version": "1.5.0",
            "orientation": "horizontal",
            "min": 0,
            "description_tooltip": null,
            "_model_module": "@jupyter-widgets/controls",
            "layout": "IPY_MODEL_6a3cdf974a6f40b395c13fe25b71a9cd"
          }
        },
        "0ea3b41de6714b94a27ec2b81f6e9c93": {
          "model_module": "@jupyter-widgets/controls",
          "model_name": "HTMLModel",
          "state": {
            "_view_name": "HTMLView",
            "style": "IPY_MODEL_79dcf7a1b9164a118b7e078635bb7176",
            "_dom_classes": [],
            "description": "",
            "_model_name": "HTMLModel",
            "placeholder": "​",
            "_view_module": "@jupyter-widgets/controls",
            "_model_module_version": "1.5.0",
            "value": " 60000/0 [00:24&lt;00:00, 3271.73 examples/s]",
            "_view_count": null,
            "_view_module_version": "1.5.0",
            "description_tooltip": null,
            "_model_module": "@jupyter-widgets/controls",
            "layout": "IPY_MODEL_83f5514b26434bdda9e14641d5bafedf"
          }
        },
        "6eb5e1a43fa040b5a9869a2b217c3601": {
          "model_module": "@jupyter-widgets/controls",
          "model_name": "ProgressStyleModel",
          "state": {
            "_view_name": "StyleView",
            "_model_name": "ProgressStyleModel",
            "description_width": "initial",
            "_view_module": "@jupyter-widgets/base",
            "_model_module_version": "1.5.0",
            "_view_count": null,
            "_view_module_version": "1.2.0",
            "bar_color": null,
            "_model_module": "@jupyter-widgets/controls"
          }
        },
        "6a3cdf974a6f40b395c13fe25b71a9cd": {
          "model_module": "@jupyter-widgets/base",
          "model_name": "LayoutModel",
          "state": {
            "_view_name": "LayoutView",
            "grid_template_rows": null,
            "right": null,
            "justify_content": null,
            "_view_module": "@jupyter-widgets/base",
            "overflow": null,
            "_model_module_version": "1.2.0",
            "_view_count": null,
            "flex_flow": null,
            "width": null,
            "min_width": null,
            "border": null,
            "align_items": null,
            "bottom": null,
            "_model_module": "@jupyter-widgets/base",
            "top": null,
            "grid_column": null,
            "overflow_y": null,
            "overflow_x": null,
            "grid_auto_flow": null,
            "grid_area": null,
            "grid_template_columns": null,
            "flex": null,
            "_model_name": "LayoutModel",
            "justify_items": null,
            "grid_row": null,
            "max_height": null,
            "align_content": null,
            "visibility": null,
            "align_self": null,
            "height": null,
            "min_height": null,
            "padding": null,
            "grid_auto_rows": null,
            "grid_gap": null,
            "max_width": null,
            "order": null,
            "_view_module_version": "1.2.0",
            "grid_template_areas": null,
            "object_position": null,
            "object_fit": null,
            "grid_auto_columns": null,
            "margin": null,
            "display": null,
            "left": null
          }
        },
        "79dcf7a1b9164a118b7e078635bb7176": {
          "model_module": "@jupyter-widgets/controls",
          "model_name": "DescriptionStyleModel",
          "state": {
            "_view_name": "StyleView",
            "_model_name": "DescriptionStyleModel",
            "description_width": "",
            "_view_module": "@jupyter-widgets/base",
            "_model_module_version": "1.5.0",
            "_view_count": null,
            "_view_module_version": "1.2.0",
            "_model_module": "@jupyter-widgets/controls"
          }
        },
        "83f5514b26434bdda9e14641d5bafedf": {
          "model_module": "@jupyter-widgets/base",
          "model_name": "LayoutModel",
          "state": {
            "_view_name": "LayoutView",
            "grid_template_rows": null,
            "right": null,
            "justify_content": null,
            "_view_module": "@jupyter-widgets/base",
            "overflow": null,
            "_model_module_version": "1.2.0",
            "_view_count": null,
            "flex_flow": null,
            "width": null,
            "min_width": null,
            "border": null,
            "align_items": null,
            "bottom": null,
            "_model_module": "@jupyter-widgets/base",
            "top": null,
            "grid_column": null,
            "overflow_y": null,
            "overflow_x": null,
            "grid_auto_flow": null,
            "grid_area": null,
            "grid_template_columns": null,
            "flex": null,
            "_model_name": "LayoutModel",
            "justify_items": null,
            "grid_row": null,
            "max_height": null,
            "align_content": null,
            "visibility": null,
            "align_self": null,
            "height": null,
            "min_height": null,
            "padding": null,
            "grid_auto_rows": null,
            "grid_gap": null,
            "max_width": null,
            "order": null,
            "_view_module_version": "1.2.0",
            "grid_template_areas": null,
            "object_position": null,
            "object_fit": null,
            "grid_auto_columns": null,
            "margin": null,
            "display": null,
            "left": null
          }
        },
        "2d0c83839e3247929ce4f3e041cf1bbd": {
          "model_module": "@jupyter-widgets/controls",
          "model_name": "HBoxModel",
          "state": {
            "_view_name": "HBoxView",
            "_dom_classes": [],
            "_model_name": "HBoxModel",
            "_view_module": "@jupyter-widgets/controls",
            "_model_module_version": "1.5.0",
            "_view_count": null,
            "_view_module_version": "1.5.0",
            "box_style": "",
            "layout": "IPY_MODEL_8521f2b0e03b40889f4f2cd652ce3248",
            "_model_module": "@jupyter-widgets/controls",
            "children": [
              "IPY_MODEL_8e800d577ce4497cbf56c41b81a93121",
              "IPY_MODEL_3c5c4a8323764962967ab42a630b5b21"
            ]
          }
        },
        "8521f2b0e03b40889f4f2cd652ce3248": {
          "model_module": "@jupyter-widgets/base",
          "model_name": "LayoutModel",
          "state": {
            "_view_name": "LayoutView",
            "grid_template_rows": null,
            "right": null,
            "justify_content": null,
            "_view_module": "@jupyter-widgets/base",
            "overflow": null,
            "_model_module_version": "1.2.0",
            "_view_count": null,
            "flex_flow": null,
            "width": null,
            "min_width": null,
            "border": null,
            "align_items": null,
            "bottom": null,
            "_model_module": "@jupyter-widgets/base",
            "top": null,
            "grid_column": null,
            "overflow_y": null,
            "overflow_x": null,
            "grid_auto_flow": null,
            "grid_area": null,
            "grid_template_columns": null,
            "flex": null,
            "_model_name": "LayoutModel",
            "justify_items": null,
            "grid_row": null,
            "max_height": null,
            "align_content": null,
            "visibility": null,
            "align_self": null,
            "height": null,
            "min_height": null,
            "padding": null,
            "grid_auto_rows": null,
            "grid_gap": null,
            "max_width": null,
            "order": null,
            "_view_module_version": "1.2.0",
            "grid_template_areas": null,
            "object_position": null,
            "object_fit": null,
            "grid_auto_columns": null,
            "margin": null,
            "display": null,
            "left": null
          }
        },
        "8e800d577ce4497cbf56c41b81a93121": {
          "model_module": "@jupyter-widgets/controls",
          "model_name": "FloatProgressModel",
          "state": {
            "_view_name": "ProgressView",
            "style": "IPY_MODEL_b23f99627cc34351b211cc79d6400256",
            "_dom_classes": [],
            "description": " 80%",
            "_model_name": "FloatProgressModel",
            "bar_style": "danger",
            "max": 60000,
            "_view_module": "@jupyter-widgets/controls",
            "_model_module_version": "1.5.0",
            "value": 48274,
            "_view_count": null,
            "_view_module_version": "1.5.0",
            "orientation": "horizontal",
            "min": 0,
            "description_tooltip": null,
            "_model_module": "@jupyter-widgets/controls",
            "layout": "IPY_MODEL_759c3c178de8409f9f5a697efa198df5"
          }
        },
        "3c5c4a8323764962967ab42a630b5b21": {
          "model_module": "@jupyter-widgets/controls",
          "model_name": "HTMLModel",
          "state": {
            "_view_name": "HTMLView",
            "style": "IPY_MODEL_d250c8996ca34f369634afd145370f56",
            "_dom_classes": [],
            "description": "",
            "_model_name": "HTMLModel",
            "placeholder": "​",
            "_view_module": "@jupyter-widgets/controls",
            "_model_module_version": "1.5.0",
            "value": " 48274/60000 [00:00&lt;00:00, 64486.92 examples/s]",
            "_view_count": null,
            "_view_module_version": "1.5.0",
            "description_tooltip": null,
            "_model_module": "@jupyter-widgets/controls",
            "layout": "IPY_MODEL_23c78ec3137e4c18a20a28a106a319bb"
          }
        },
        "b23f99627cc34351b211cc79d6400256": {
          "model_module": "@jupyter-widgets/controls",
          "model_name": "ProgressStyleModel",
          "state": {
            "_view_name": "StyleView",
            "_model_name": "ProgressStyleModel",
            "description_width": "initial",
            "_view_module": "@jupyter-widgets/base",
            "_model_module_version": "1.5.0",
            "_view_count": null,
            "_view_module_version": "1.2.0",
            "bar_color": null,
            "_model_module": "@jupyter-widgets/controls"
          }
        },
        "759c3c178de8409f9f5a697efa198df5": {
          "model_module": "@jupyter-widgets/base",
          "model_name": "LayoutModel",
          "state": {
            "_view_name": "LayoutView",
            "grid_template_rows": null,
            "right": null,
            "justify_content": null,
            "_view_module": "@jupyter-widgets/base",
            "overflow": null,
            "_model_module_version": "1.2.0",
            "_view_count": null,
            "flex_flow": null,
            "width": null,
            "min_width": null,
            "border": null,
            "align_items": null,
            "bottom": null,
            "_model_module": "@jupyter-widgets/base",
            "top": null,
            "grid_column": null,
            "overflow_y": null,
            "overflow_x": null,
            "grid_auto_flow": null,
            "grid_area": null,
            "grid_template_columns": null,
            "flex": null,
            "_model_name": "LayoutModel",
            "justify_items": null,
            "grid_row": null,
            "max_height": null,
            "align_content": null,
            "visibility": null,
            "align_self": null,
            "height": null,
            "min_height": null,
            "padding": null,
            "grid_auto_rows": null,
            "grid_gap": null,
            "max_width": null,
            "order": null,
            "_view_module_version": "1.2.0",
            "grid_template_areas": null,
            "object_position": null,
            "object_fit": null,
            "grid_auto_columns": null,
            "margin": null,
            "display": null,
            "left": null
          }
        },
        "d250c8996ca34f369634afd145370f56": {
          "model_module": "@jupyter-widgets/controls",
          "model_name": "DescriptionStyleModel",
          "state": {
            "_view_name": "StyleView",
            "_model_name": "DescriptionStyleModel",
            "description_width": "",
            "_view_module": "@jupyter-widgets/base",
            "_model_module_version": "1.5.0",
            "_view_count": null,
            "_view_module_version": "1.2.0",
            "_model_module": "@jupyter-widgets/controls"
          }
        },
        "23c78ec3137e4c18a20a28a106a319bb": {
          "model_module": "@jupyter-widgets/base",
          "model_name": "LayoutModel",
          "state": {
            "_view_name": "LayoutView",
            "grid_template_rows": null,
            "right": null,
            "justify_content": null,
            "_view_module": "@jupyter-widgets/base",
            "overflow": null,
            "_model_module_version": "1.2.0",
            "_view_count": null,
            "flex_flow": null,
            "width": null,
            "min_width": null,
            "border": null,
            "align_items": null,
            "bottom": null,
            "_model_module": "@jupyter-widgets/base",
            "top": null,
            "grid_column": null,
            "overflow_y": null,
            "overflow_x": null,
            "grid_auto_flow": null,
            "grid_area": null,
            "grid_template_columns": null,
            "flex": null,
            "_model_name": "LayoutModel",
            "justify_items": null,
            "grid_row": null,
            "max_height": null,
            "align_content": null,
            "visibility": null,
            "align_self": null,
            "height": null,
            "min_height": null,
            "padding": null,
            "grid_auto_rows": null,
            "grid_gap": null,
            "max_width": null,
            "order": null,
            "_view_module_version": "1.2.0",
            "grid_template_areas": null,
            "object_position": null,
            "object_fit": null,
            "grid_auto_columns": null,
            "margin": null,
            "display": null,
            "left": null
          }
        },
        "25fd0a09f486430abf0809062092ef1f": {
          "model_module": "@jupyter-widgets/controls",
          "model_name": "HBoxModel",
          "state": {
            "_view_name": "HBoxView",
            "_dom_classes": [],
            "_model_name": "HBoxModel",
            "_view_module": "@jupyter-widgets/controls",
            "_model_module_version": "1.5.0",
            "_view_count": null,
            "_view_module_version": "1.5.0",
            "box_style": "",
            "layout": "IPY_MODEL_9badb7f49a69451ba4c23eef60a37742",
            "_model_module": "@jupyter-widgets/controls",
            "children": [
              "IPY_MODEL_0d2d15ab488544c791906320ab8c2462",
              "IPY_MODEL_bf0fa99733a34315832f79ffcb54d733"
            ]
          }
        },
        "9badb7f49a69451ba4c23eef60a37742": {
          "model_module": "@jupyter-widgets/base",
          "model_name": "LayoutModel",
          "state": {
            "_view_name": "LayoutView",
            "grid_template_rows": null,
            "right": null,
            "justify_content": null,
            "_view_module": "@jupyter-widgets/base",
            "overflow": null,
            "_model_module_version": "1.2.0",
            "_view_count": null,
            "flex_flow": null,
            "width": null,
            "min_width": null,
            "border": null,
            "align_items": null,
            "bottom": null,
            "_model_module": "@jupyter-widgets/base",
            "top": null,
            "grid_column": null,
            "overflow_y": null,
            "overflow_x": null,
            "grid_auto_flow": null,
            "grid_area": null,
            "grid_template_columns": null,
            "flex": null,
            "_model_name": "LayoutModel",
            "justify_items": null,
            "grid_row": null,
            "max_height": null,
            "align_content": null,
            "visibility": null,
            "align_self": null,
            "height": null,
            "min_height": null,
            "padding": null,
            "grid_auto_rows": null,
            "grid_gap": null,
            "max_width": null,
            "order": null,
            "_view_module_version": "1.2.0",
            "grid_template_areas": null,
            "object_position": null,
            "object_fit": null,
            "grid_auto_columns": null,
            "margin": null,
            "display": null,
            "left": null
          }
        },
        "0d2d15ab488544c791906320ab8c2462": {
          "model_module": "@jupyter-widgets/controls",
          "model_name": "FloatProgressModel",
          "state": {
            "_view_name": "ProgressView",
            "style": "IPY_MODEL_89791f4261784f3eacdf68458390b492",
            "_dom_classes": [],
            "description": "",
            "_model_name": "FloatProgressModel",
            "bar_style": "info",
            "max": 1,
            "_view_module": "@jupyter-widgets/controls",
            "_model_module_version": "1.5.0",
            "value": 1,
            "_view_count": null,
            "_view_module_version": "1.5.0",
            "orientation": "horizontal",
            "min": 0,
            "description_tooltip": null,
            "_model_module": "@jupyter-widgets/controls",
            "layout": "IPY_MODEL_5c1a28a7c94441a79a21dfab5fff0c51"
          }
        },
        "bf0fa99733a34315832f79ffcb54d733": {
          "model_module": "@jupyter-widgets/controls",
          "model_name": "HTMLModel",
          "state": {
            "_view_name": "HTMLView",
            "style": "IPY_MODEL_7ccec3d022af4413880e4db09a80f8f9",
            "_dom_classes": [],
            "description": "",
            "_model_name": "HTMLModel",
            "placeholder": "​",
            "_view_module": "@jupyter-widgets/controls",
            "_model_module_version": "1.5.0",
            "value": " 10000/0 [00:03&lt;00:00, 3231.87 examples/s]",
            "_view_count": null,
            "_view_module_version": "1.5.0",
            "description_tooltip": null,
            "_model_module": "@jupyter-widgets/controls",
            "layout": "IPY_MODEL_8818116c47354ace83bd812cc0865336"
          }
        },
        "89791f4261784f3eacdf68458390b492": {
          "model_module": "@jupyter-widgets/controls",
          "model_name": "ProgressStyleModel",
          "state": {
            "_view_name": "StyleView",
            "_model_name": "ProgressStyleModel",
            "description_width": "initial",
            "_view_module": "@jupyter-widgets/base",
            "_model_module_version": "1.5.0",
            "_view_count": null,
            "_view_module_version": "1.2.0",
            "bar_color": null,
            "_model_module": "@jupyter-widgets/controls"
          }
        },
        "5c1a28a7c94441a79a21dfab5fff0c51": {
          "model_module": "@jupyter-widgets/base",
          "model_name": "LayoutModel",
          "state": {
            "_view_name": "LayoutView",
            "grid_template_rows": null,
            "right": null,
            "justify_content": null,
            "_view_module": "@jupyter-widgets/base",
            "overflow": null,
            "_model_module_version": "1.2.0",
            "_view_count": null,
            "flex_flow": null,
            "width": null,
            "min_width": null,
            "border": null,
            "align_items": null,
            "bottom": null,
            "_model_module": "@jupyter-widgets/base",
            "top": null,
            "grid_column": null,
            "overflow_y": null,
            "overflow_x": null,
            "grid_auto_flow": null,
            "grid_area": null,
            "grid_template_columns": null,
            "flex": null,
            "_model_name": "LayoutModel",
            "justify_items": null,
            "grid_row": null,
            "max_height": null,
            "align_content": null,
            "visibility": null,
            "align_self": null,
            "height": null,
            "min_height": null,
            "padding": null,
            "grid_auto_rows": null,
            "grid_gap": null,
            "max_width": null,
            "order": null,
            "_view_module_version": "1.2.0",
            "grid_template_areas": null,
            "object_position": null,
            "object_fit": null,
            "grid_auto_columns": null,
            "margin": null,
            "display": null,
            "left": null
          }
        },
        "7ccec3d022af4413880e4db09a80f8f9": {
          "model_module": "@jupyter-widgets/controls",
          "model_name": "DescriptionStyleModel",
          "state": {
            "_view_name": "StyleView",
            "_model_name": "DescriptionStyleModel",
            "description_width": "",
            "_view_module": "@jupyter-widgets/base",
            "_model_module_version": "1.5.0",
            "_view_count": null,
            "_view_module_version": "1.2.0",
            "_model_module": "@jupyter-widgets/controls"
          }
        },
        "8818116c47354ace83bd812cc0865336": {
          "model_module": "@jupyter-widgets/base",
          "model_name": "LayoutModel",
          "state": {
            "_view_name": "LayoutView",
            "grid_template_rows": null,
            "right": null,
            "justify_content": null,
            "_view_module": "@jupyter-widgets/base",
            "overflow": null,
            "_model_module_version": "1.2.0",
            "_view_count": null,
            "flex_flow": null,
            "width": null,
            "min_width": null,
            "border": null,
            "align_items": null,
            "bottom": null,
            "_model_module": "@jupyter-widgets/base",
            "top": null,
            "grid_column": null,
            "overflow_y": null,
            "overflow_x": null,
            "grid_auto_flow": null,
            "grid_area": null,
            "grid_template_columns": null,
            "flex": null,
            "_model_name": "LayoutModel",
            "justify_items": null,
            "grid_row": null,
            "max_height": null,
            "align_content": null,
            "visibility": null,
            "align_self": null,
            "height": null,
            "min_height": null,
            "padding": null,
            "grid_auto_rows": null,
            "grid_gap": null,
            "max_width": null,
            "order": null,
            "_view_module_version": "1.2.0",
            "grid_template_areas": null,
            "object_position": null,
            "object_fit": null,
            "grid_auto_columns": null,
            "margin": null,
            "display": null,
            "left": null
          }
        },
        "bf887935e9e14bbbbcebb9e240841cb1": {
          "model_module": "@jupyter-widgets/controls",
          "model_name": "HBoxModel",
          "state": {
            "_view_name": "HBoxView",
            "_dom_classes": [],
            "_model_name": "HBoxModel",
            "_view_module": "@jupyter-widgets/controls",
            "_model_module_version": "1.5.0",
            "_view_count": null,
            "_view_module_version": "1.5.0",
            "box_style": "",
            "layout": "IPY_MODEL_284b6fb1fe9840339966e851dd8d8865",
            "_model_module": "@jupyter-widgets/controls",
            "children": [
              "IPY_MODEL_2544725ec4fd492ab941efe2ee18291f",
              "IPY_MODEL_7dc6207189a54a30b518a1bcf8dd1c3f"
            ]
          }
        },
        "284b6fb1fe9840339966e851dd8d8865": {
          "model_module": "@jupyter-widgets/base",
          "model_name": "LayoutModel",
          "state": {
            "_view_name": "LayoutView",
            "grid_template_rows": null,
            "right": null,
            "justify_content": null,
            "_view_module": "@jupyter-widgets/base",
            "overflow": null,
            "_model_module_version": "1.2.0",
            "_view_count": null,
            "flex_flow": null,
            "width": null,
            "min_width": null,
            "border": null,
            "align_items": null,
            "bottom": null,
            "_model_module": "@jupyter-widgets/base",
            "top": null,
            "grid_column": null,
            "overflow_y": null,
            "overflow_x": null,
            "grid_auto_flow": null,
            "grid_area": null,
            "grid_template_columns": null,
            "flex": null,
            "_model_name": "LayoutModel",
            "justify_items": null,
            "grid_row": null,
            "max_height": null,
            "align_content": null,
            "visibility": null,
            "align_self": null,
            "height": null,
            "min_height": null,
            "padding": null,
            "grid_auto_rows": null,
            "grid_gap": null,
            "max_width": null,
            "order": null,
            "_view_module_version": "1.2.0",
            "grid_template_areas": null,
            "object_position": null,
            "object_fit": null,
            "grid_auto_columns": null,
            "margin": null,
            "display": null,
            "left": null
          }
        },
        "2544725ec4fd492ab941efe2ee18291f": {
          "model_module": "@jupyter-widgets/controls",
          "model_name": "FloatProgressModel",
          "state": {
            "_view_name": "ProgressView",
            "style": "IPY_MODEL_847b98526518428fa744eecd58127a51",
            "_dom_classes": [],
            "description": "  0%",
            "_model_name": "FloatProgressModel",
            "bar_style": "danger",
            "max": 10000,
            "_view_module": "@jupyter-widgets/controls",
            "_model_module_version": "1.5.0",
            "value": 0,
            "_view_count": null,
            "_view_module_version": "1.5.0",
            "orientation": "horizontal",
            "min": 0,
            "description_tooltip": null,
            "_model_module": "@jupyter-widgets/controls",
            "layout": "IPY_MODEL_bba1b984b14e4a5083c11290661e7fad"
          }
        },
        "7dc6207189a54a30b518a1bcf8dd1c3f": {
          "model_module": "@jupyter-widgets/controls",
          "model_name": "HTMLModel",
          "state": {
            "_view_name": "HTMLView",
            "style": "IPY_MODEL_021f56e88b3b408f8ff68848ca54dc3f",
            "_dom_classes": [],
            "description": "",
            "_model_name": "HTMLModel",
            "placeholder": "​",
            "_view_module": "@jupyter-widgets/controls",
            "_model_module_version": "1.5.0",
            "value": " 0/10000 [00:00&lt;?, ? examples/s]",
            "_view_count": null,
            "_view_module_version": "1.5.0",
            "description_tooltip": null,
            "_model_module": "@jupyter-widgets/controls",
            "layout": "IPY_MODEL_f7702225acab43dab332b3d01a178326"
          }
        },
        "847b98526518428fa744eecd58127a51": {
          "model_module": "@jupyter-widgets/controls",
          "model_name": "ProgressStyleModel",
          "state": {
            "_view_name": "StyleView",
            "_model_name": "ProgressStyleModel",
            "description_width": "initial",
            "_view_module": "@jupyter-widgets/base",
            "_model_module_version": "1.5.0",
            "_view_count": null,
            "_view_module_version": "1.2.0",
            "bar_color": null,
            "_model_module": "@jupyter-widgets/controls"
          }
        },
        "bba1b984b14e4a5083c11290661e7fad": {
          "model_module": "@jupyter-widgets/base",
          "model_name": "LayoutModel",
          "state": {
            "_view_name": "LayoutView",
            "grid_template_rows": null,
            "right": null,
            "justify_content": null,
            "_view_module": "@jupyter-widgets/base",
            "overflow": null,
            "_model_module_version": "1.2.0",
            "_view_count": null,
            "flex_flow": null,
            "width": null,
            "min_width": null,
            "border": null,
            "align_items": null,
            "bottom": null,
            "_model_module": "@jupyter-widgets/base",
            "top": null,
            "grid_column": null,
            "overflow_y": null,
            "overflow_x": null,
            "grid_auto_flow": null,
            "grid_area": null,
            "grid_template_columns": null,
            "flex": null,
            "_model_name": "LayoutModel",
            "justify_items": null,
            "grid_row": null,
            "max_height": null,
            "align_content": null,
            "visibility": null,
            "align_self": null,
            "height": null,
            "min_height": null,
            "padding": null,
            "grid_auto_rows": null,
            "grid_gap": null,
            "max_width": null,
            "order": null,
            "_view_module_version": "1.2.0",
            "grid_template_areas": null,
            "object_position": null,
            "object_fit": null,
            "grid_auto_columns": null,
            "margin": null,
            "display": null,
            "left": null
          }
        },
        "021f56e88b3b408f8ff68848ca54dc3f": {
          "model_module": "@jupyter-widgets/controls",
          "model_name": "DescriptionStyleModel",
          "state": {
            "_view_name": "StyleView",
            "_model_name": "DescriptionStyleModel",
            "description_width": "",
            "_view_module": "@jupyter-widgets/base",
            "_model_module_version": "1.5.0",
            "_view_count": null,
            "_view_module_version": "1.2.0",
            "_model_module": "@jupyter-widgets/controls"
          }
        },
        "f7702225acab43dab332b3d01a178326": {
          "model_module": "@jupyter-widgets/base",
          "model_name": "LayoutModel",
          "state": {
            "_view_name": "LayoutView",
            "grid_template_rows": null,
            "right": null,
            "justify_content": null,
            "_view_module": "@jupyter-widgets/base",
            "overflow": null,
            "_model_module_version": "1.2.0",
            "_view_count": null,
            "flex_flow": null,
            "width": null,
            "min_width": null,
            "border": null,
            "align_items": null,
            "bottom": null,
            "_model_module": "@jupyter-widgets/base",
            "top": null,
            "grid_column": null,
            "overflow_y": null,
            "overflow_x": null,
            "grid_auto_flow": null,
            "grid_area": null,
            "grid_template_columns": null,
            "flex": null,
            "_model_name": "LayoutModel",
            "justify_items": null,
            "grid_row": null,
            "max_height": null,
            "align_content": null,
            "visibility": null,
            "align_self": null,
            "height": null,
            "min_height": null,
            "padding": null,
            "grid_auto_rows": null,
            "grid_gap": null,
            "max_width": null,
            "order": null,
            "_view_module_version": "1.2.0",
            "grid_template_areas": null,
            "object_position": null,
            "object_fit": null,
            "grid_auto_columns": null,
            "margin": null,
            "display": null,
            "left": null
          }
        }
      }
    }
  },
  "cells": [
    {
      "cell_type": "markdown",
      "metadata": {
        "id": "0EL36F41WW1w"
      },
      "source": [
        "# **Deep Learning Model To Classify Fashion MNIST Images**"
      ]
    },
    {
      "cell_type": "markdown",
      "metadata": {
        "id": "0wO0mU4RllmE"
      },
      "source": [
        "***Rushiblogs*** Building episode 7 Link: [rushiblogs.weebly.com/buildwithrushi](https://rushiblogs.weebly.com/buildwithrushi.html)\n",
        "\n",
        "More about the Fashion MNIST Dataset: https://research.zalando.com/welcome/mission/research-projects/fashion-mnist/\n",
        "\n",
        "Enjoy your new year! 2021 :)"
      ]
    },
    {
      "cell_type": "markdown",
      "metadata": {
        "id": "cT6tVtlBhl26"
      },
      "source": [
        "\n",
        "\n",
        "---"
      ]
    },
    {
      "cell_type": "markdown",
      "metadata": {
        "id": "0OqYKq55T6qm"
      },
      "source": [
        "## **Loading the Dataset**"
      ]
    },
    {
      "cell_type": "code",
      "metadata": {
        "id": "oE6vcPqLRQz6"
      },
      "source": [
        "# Importing important open source libraries\n",
        "import tensorflow as tf\n",
        "import numpy as np\n",
        "import pandas as pd\n",
        "\n",
        "# For analysis and plotting\n",
        "import matplotlib.pyplot as plt\n",
        "%matplotlib inline"
      ],
      "execution_count": 1,
      "outputs": []
    },
    {
      "cell_type": "code",
      "metadata": {
        "id": "rmmyxKfVDoD2"
      },
      "source": [
        "# Importing TensorFlow datasets\n",
        "import tensorflow_datasets as tfds"
      ],
      "execution_count": 2,
      "outputs": []
    },
    {
      "cell_type": "code",
      "metadata": {
        "id": "u63YJPzelZvK",
        "colab": {
          "base_uri": "https://localhost:8080/",
          "height": 367,
          "referenced_widgets": [
            "6df8b207b7a64772b9ed380e9e0fb9ce",
            "9209a3bfd5b143e7acabe8b642ad8aad",
            "6edd5af77ae64107bca10a0ea1cac2f7",
            "e93e7dc2c5cd481cbb8591752c5f4c63",
            "4d6ad338b4274974960547c529a08aac",
            "49b04becd618405ba47d86eebd7b31c2",
            "d4c36f2263174b438f28ab3986c8efe8",
            "256667900f254c8f8e35af2deb61ebfe",
            "be1987653a2247878c7a942732c64065",
            "a4db6d79b38146aaac908b1c0c3ebec9",
            "0cb67da9880844f2a15532cabc6a18f2",
            "095c4de518e2449b84a35a29a93bb36a",
            "ca1f5128ab2d4324a552cc10481184aa",
            "c456137aa8cd4180ae8633545b58053a",
            "5e07c3869b9343958ef93ae8a5c489e1",
            "77c49e8186ce4d2da1539b1f1a76d578",
            "b94defe408dd496a9dcc9c7d7a4cb4cf",
            "a93ace3f4c444e7bb5c2c970caf9bfa1",
            "2c501b2b05f340b5ab6e152642d6ca15",
            "059e28a0b9e3498bac687046090e2c56",
            "1815d80342234325b246a8d9b75940b0",
            "e5b4b7f0de224384bf808c8e88f77942",
            "bbabbd38611c4e8f97540c8989d6ada1",
            "b4d160dc082341ca98f0ec69cab6bd88",
            "09a834d41ca04802a315abad3e4352f9",
            "0216e84586914247bc656063fe5e1b09",
            "4d5805d630604052aa62406d44445704",
            "0ea3b41de6714b94a27ec2b81f6e9c93",
            "6eb5e1a43fa040b5a9869a2b217c3601",
            "6a3cdf974a6f40b395c13fe25b71a9cd",
            "79dcf7a1b9164a118b7e078635bb7176",
            "83f5514b26434bdda9e14641d5bafedf",
            "2d0c83839e3247929ce4f3e041cf1bbd",
            "8521f2b0e03b40889f4f2cd652ce3248",
            "8e800d577ce4497cbf56c41b81a93121",
            "3c5c4a8323764962967ab42a630b5b21",
            "b23f99627cc34351b211cc79d6400256",
            "759c3c178de8409f9f5a697efa198df5",
            "d250c8996ca34f369634afd145370f56",
            "23c78ec3137e4c18a20a28a106a319bb",
            "25fd0a09f486430abf0809062092ef1f",
            "9badb7f49a69451ba4c23eef60a37742",
            "0d2d15ab488544c791906320ab8c2462",
            "bf0fa99733a34315832f79ffcb54d733",
            "89791f4261784f3eacdf68458390b492",
            "5c1a28a7c94441a79a21dfab5fff0c51",
            "7ccec3d022af4413880e4db09a80f8f9",
            "8818116c47354ace83bd812cc0865336",
            "bf887935e9e14bbbbcebb9e240841cb1",
            "284b6fb1fe9840339966e851dd8d8865",
            "2544725ec4fd492ab941efe2ee18291f",
            "7dc6207189a54a30b518a1bcf8dd1c3f",
            "847b98526518428fa744eecd58127a51",
            "bba1b984b14e4a5083c11290661e7fad",
            "021f56e88b3b408f8ff68848ca54dc3f",
            "f7702225acab43dab332b3d01a178326"
          ]
        },
        "outputId": "0d3ee9da-a54e-4919-a45a-0e119437cb1b"
      },
      "source": [
        "# Download the Fashion MNIST dataset from Tensorflow, object tf.data.Dataset\n",
        "(fashion_train, fashion_test), info = tfds.load('fashion_mnist', split=['train[:60%]', 'test'], with_info=True)"
      ],
      "execution_count": 3,
      "outputs": [
        {
          "output_type": "stream",
          "text": [
            "\u001b[1mDownloading and preparing dataset fashion_mnist/3.0.1 (download: 29.45 MiB, generated: 36.42 MiB, total: 65.87 MiB) to /root/tensorflow_datasets/fashion_mnist/3.0.1...\u001b[0m\n"
          ],
          "name": "stdout"
        },
        {
          "output_type": "display_data",
          "data": {
            "application/vnd.jupyter.widget-view+json": {
              "model_id": "6df8b207b7a64772b9ed380e9e0fb9ce",
              "version_minor": 0,
              "version_major": 2
            },
            "text/plain": [
              "HBox(children=(FloatProgress(value=1.0, bar_style='info', description='Dl Completed...', max=1.0, style=Progre…"
            ]
          },
          "metadata": {
            "tags": []
          }
        },
        {
          "output_type": "display_data",
          "data": {
            "application/vnd.jupyter.widget-view+json": {
              "model_id": "be1987653a2247878c7a942732c64065",
              "version_minor": 0,
              "version_major": 2
            },
            "text/plain": [
              "HBox(children=(FloatProgress(value=1.0, bar_style='info', description='Dl Size...', max=1.0, style=ProgressSty…"
            ]
          },
          "metadata": {
            "tags": []
          }
        },
        {
          "output_type": "display_data",
          "data": {
            "application/vnd.jupyter.widget-view+json": {
              "model_id": "b94defe408dd496a9dcc9c7d7a4cb4cf",
              "version_minor": 0,
              "version_major": 2
            },
            "text/plain": [
              "HBox(children=(FloatProgress(value=1.0, bar_style='info', description='Extraction completed...', max=1.0, styl…"
            ]
          },
          "metadata": {
            "tags": []
          }
        },
        {
          "output_type": "stream",
          "text": [
            "\n",
            "\n",
            "\n",
            "\n",
            "\n",
            "\n"
          ],
          "name": "stdout"
        },
        {
          "output_type": "display_data",
          "data": {
            "application/vnd.jupyter.widget-view+json": {
              "model_id": "09a834d41ca04802a315abad3e4352f9",
              "version_minor": 0,
              "version_major": 2
            },
            "text/plain": [
              "HBox(children=(FloatProgress(value=1.0, bar_style='info', max=1.0), HTML(value='')))"
            ]
          },
          "metadata": {
            "tags": []
          }
        },
        {
          "output_type": "stream",
          "text": [
            "\rShuffling and writing examples to /root/tensorflow_datasets/fashion_mnist/3.0.1.incomplete9IJ4IM/fashion_mnist-train.tfrecord\n"
          ],
          "name": "stdout"
        },
        {
          "output_type": "display_data",
          "data": {
            "application/vnd.jupyter.widget-view+json": {
              "model_id": "2d0c83839e3247929ce4f3e041cf1bbd",
              "version_minor": 0,
              "version_major": 2
            },
            "text/plain": [
              "HBox(children=(FloatProgress(value=0.0, max=60000.0), HTML(value='')))"
            ]
          },
          "metadata": {
            "tags": []
          }
        },
        {
          "output_type": "stream",
          "text": [
            "\r"
          ],
          "name": "stdout"
        },
        {
          "output_type": "display_data",
          "data": {
            "application/vnd.jupyter.widget-view+json": {
              "model_id": "25fd0a09f486430abf0809062092ef1f",
              "version_minor": 0,
              "version_major": 2
            },
            "text/plain": [
              "HBox(children=(FloatProgress(value=1.0, bar_style='info', max=1.0), HTML(value='')))"
            ]
          },
          "metadata": {
            "tags": []
          }
        },
        {
          "output_type": "stream",
          "text": [
            "\rShuffling and writing examples to /root/tensorflow_datasets/fashion_mnist/3.0.1.incomplete9IJ4IM/fashion_mnist-test.tfrecord\n"
          ],
          "name": "stdout"
        },
        {
          "output_type": "display_data",
          "data": {
            "application/vnd.jupyter.widget-view+json": {
              "model_id": "bf887935e9e14bbbbcebb9e240841cb1",
              "version_minor": 0,
              "version_major": 2
            },
            "text/plain": [
              "HBox(children=(FloatProgress(value=0.0, max=10000.0), HTML(value='')))"
            ]
          },
          "metadata": {
            "tags": []
          }
        },
        {
          "output_type": "stream",
          "text": [
            "\u001b[1mDataset fashion_mnist downloaded and prepared to /root/tensorflow_datasets/fashion_mnist/3.0.1. Subsequent calls will reuse this data.\u001b[0m\n",
            "\r"
          ],
          "name": "stdout"
        }
      ]
    },
    {
      "cell_type": "code",
      "metadata": {
        "id": "eSOd_xb4_8vp",
        "colab": {
          "base_uri": "https://localhost:8080/",
          "height": 534
        },
        "outputId": "5c049603-1f5b-4e86-ff9c-7f60f6166eda"
      },
      "source": [
        "# Show some examples:\n",
        "fig = tfds.show_examples(fashion_test, info)"
      ],
      "execution_count": null,
      "outputs": [
        {
          "output_type": "display_data",
          "data": {
            "image/png": "[encoded data removed]",
            "text/plain": [
              "<Figure size 648x648 with 9 Axes>"
            ]
          },
          "metadata": {
            "tags": []
          }
        }
      ]
    },
    {
      "cell_type": "code",
      "metadata": {
        "colab": {
          "base_uri": "https://localhost:8080/",
          "height": 534
        },
        "id": "Qhqo_dEEvm87",
        "outputId": "eaac028f-88ea-4feb-bbac-1cd8d3fd3300"
      },
      "source": [
        "fig1 = tfds.show_examples(fashion_train, info)"
      ],
      "execution_count": null,
      "outputs": [
        {
          "output_type": "display_data",
          "data": {
            "image/png": "[encoded data removed]",
            "text/plain": [
              "<Figure size 648x648 with 9 Axes>"
            ]
          },
          "metadata": {
            "tags": []
          }
        }
      ]
    },
    {
      "cell_type": "code",
      "metadata": {
        "colab": {
          "base_uri": "https://localhost:8080/",
          "height": 292
        },
        "id": "UkxzpvWOXaLU",
        "outputId": "c0283a28-496a-4c4d-e25a-6c3fa823385d"
      },
      "source": [
        "tfds.as_dataframe(fashion_train.take(7), info)"
      ],
      "execution_count": null,
      "outputs": [
        {
          "output_type": "execute_result",
          "data": {
            "text/html": [
              "<style  type=\"text/css\" >\n",
              "</style><table id=\"T_02b4db7a_4d3b_11eb_8e2f_0242ac1c0002\" ><thead>    <tr>        <th class=\"blank level0\" ></th>        <th class=\"col_heading level0 col0\" >image</th>        <th class=\"col_heading level0 col1\" >label</th>    </tr></thead><tbody>\n",
              "                <tr>\n",
              "                        <th id=\"T_02b4db7a_4d3b_11eb_8e2f_0242ac1c0002level0_row0\" class=\"row_heading level0 row0\" >0</th>\n",
              "                        <td id=\"T_02b4db7a_4d3b_11eb_8e2f_0242ac1c0002row0_col0\" class=\"data row0 col0\" ><img src=\"data:image/png;base64,iVBORw0KGgoAAAANSUhEUgAAABwAAAAcCAAAAABXZoBIAAAB90lEQVR4nFXSv2/TQBQH8O+75zvbcWLkNG3S0hBAQi0bCwMSLB3YGBj4N/gv+H+YkFiQkCispRNSIVKV0ibCiiuT1K7tu2NI4oRbTrrPvR96esDqtF+NRien5z/e3K+faHm/ONDJ5Pnb4N2n/r44+/gfvu5dzTmPJ/lgV0E+HL7fwL2jiXVRsZ8LquAXgw9DABAAgD6gbAVOM1Ox0pT2AQAOAMBjbR3SpZSWDNg2DdaRUUsSLEBkNCj3dngzsulYNlpqSJKY7ZXhRqQObZCDNcFok5eHeatZYwNbfmkX/4S9ReD+LWrs3JAAs2aQIO3O+o3Cr3E/69xLFUAQBGQYWLlTYzCXvfmdQsCS1WxUJ267NUoRPwZuTAVrhMmCVtqS62799HeUFYrJoBRXR/gSBjUq1ndfXipoAJDZ0wtscz0EFkV4PW9qw4C4jU7R9coVOob95ITlokSxexw9E3qVVlnTTBNFgABIevHXgz+8QtYC8VRpI4wVwsBMaeatUDqwozywIJ0zCUcl3mKWC3S3v0USLOAXFsClN3bqtJVMzrpQwnih4yjZSJypWHXbrRqHsdfMBMgGtvRVHJLqjRcoi+gXjh+UkgFGqIbobMWPlhh2/AuMx/Uuoy11J17WTHuzJ+v1BjD9fO3Hy5o/3dgAdo34fp6lAP4BaVXEQOlmPXkAAAAASUVORK5CYII=\" alt=\"Img\" /></td>\n",
              "                        <td id=\"T_02b4db7a_4d3b_11eb_8e2f_0242ac1c0002row0_col1\" class=\"data row0 col1\" >2 (Pullover)</td>\n",
              "            </tr>\n",
              "            <tr>\n",
              "                        <th id=\"T_02b4db7a_4d3b_11eb_8e2f_0242ac1c0002level0_row1\" class=\"row_heading level0 row1\" >1</th>\n",
              "                        <td id=\"T_02b4db7a_4d3b_11eb_8e2f_0242ac1c0002row1_col0\" class=\"data row1 col0\" ><img src=\"data:image/png;base64,iVBORw0KGgoAAAANSUhEUgAAABwAAAAcCAAAAABXZoBIAAABRUlEQVR4nG3SsUoDQRAG4H92b+9yBpQkIilttAi+ga2tj+E72dgKNpaiNoJFQE1xCkkUBY0I0Ug4uZCEy+3uWOUEd6ca/o+dHZYllLVbH1vBleaJXSbBH16+ZbmmokXHcOqAszkzT3UC9+S+meeZJaG3yojKboapskzMDbm8VJQY54KJmCz28B/rsGDDkBabDtZQEEdVMkDDQYA4Sger1qDp4AjKht+JtIzMwQmI7foaWGLgjjXKhD9daIG2i/ehoNkjSKLn4oViVBcwYQoXTwvS1QmCsOvBjlJWGkAkHsRLXLAA07kPk2ihcoji3UWJEUj1wYhdZBDizitCIX3Y0PIKnyvBjg+3C0QIBLd8C22wqEGAlQ9T2AA3UnpeiPAU6S6uyX65KPAAfYtn6J6LwF0QjzEUlWGZlP/W4uxw9oH2EfdL/AUAToacy84HiAAAAABJRU5ErkJggg==\" alt=\"Img\" /></td>\n",
              "                        <td id=\"T_02b4db7a_4d3b_11eb_8e2f_0242ac1c0002row1_col1\" class=\"data row1 col1\" >1 (Trouser)</td>\n",
              "            </tr>\n",
              "            <tr>\n",
              "                        <th id=\"T_02b4db7a_4d3b_11eb_8e2f_0242ac1c0002level0_row2\" class=\"row_heading level0 row2\" >2</th>\n",
              "                        <td id=\"T_02b4db7a_4d3b_11eb_8e2f_0242ac1c0002row2_col0\" class=\"data row2 col0\" ><img src=\"data:image/png;base64,iVBORw0KGgoAAAANSUhEUgAAABwAAAAcCAAAAABXZoBIAAACNUlEQVR4nLXSP09TURgH4N977rn3tKW0lZbSlPAngkFCJCYog8bEBBMnTVxc+AIOTMbBzZjI7uTqoJsTDkZNNE6yMWgHEzEQEKhtba+lvbe955z3+Cl4PsMDnAmCYGD+zrQnjbW+NIYq/TDaTACAyOHikyoPiUHkyCTODpCfe/gB5Miz648PeolRgXVwwmoOIqXTY92NhpCM6PdxwMJ0PcAIZwSfDjhuLHpw0qHGEcuQUoYQiNhTg5EkcH5CIIEHz21O2SAFEoIGUibKUjp1Gt8Gy6trpR/eMGFoAlgZLVmn+yLXfNTekvdbNk58bRURkYV10J6z/iB4sxmKF2uFng94sMw2xTIlFGnPmenu97tir16IKbHOChKCHThhIYQVqeT1UODzYc7L5LM+CIID7UYFkSM2nZ1Y4nqnl2WXGDg48g8G4x3pI6ta997tShSO0PTZETzf2kFFB3lBjvvZZb0tsVsUHW/UDHX8r5DBiGMib6SYo6PUvoSUQbWPpdxCT9cjlfEDJKTs24XSeEtC8/HRavPj9rWZS+XKaStK2zSr/Kdi+RASjamfmVzz/Lje3plYuTLZPBb9ISpL+3NDSESy9qylRCZTOul8qZVvrvyphyK6cBBqSGyV5l0Yj8kwOzv1N998NX1jefZXq4osQMDLyXRrT+ZlYEwkrSVbXTWjncbT9yDBixvF8lxXjfpQrq6139gNc+XLX9fJEQBg9tYMDMCebberJ+cmMrX99rd0fDan8R+0vRdlaUCaaAAAAABJRU5ErkJggg==\" alt=\"Img\" /></td>\n",
              "                        <td id=\"T_02b4db7a_4d3b_11eb_8e2f_0242ac1c0002row2_col1\" class=\"data row2 col1\" >8 (Bag)</td>\n",
              "            </tr>\n",
              "            <tr>\n",
              "                        <th id=\"T_02b4db7a_4d3b_11eb_8e2f_0242ac1c0002level0_row3\" class=\"row_heading level0 row3\" >3</th>\n",
              "                        <td id=\"T_02b4db7a_4d3b_11eb_8e2f_0242ac1c0002row3_col0\" class=\"data row3 col0\" ><img src=\"data:image/png;base64,iVBORw0KGgoAAAANSUhEUgAAABwAAAAcCAAAAABXZoBIAAABvElEQVR4nG3Sv2pUQRTH8e+ZuffqumDUiE2CRMHCwkIQxc5GH8HOQmsfQATB3tInsBafxBeQLMSwMcEkRDa77t67c2fmZ7Hx7vrnlPOB3znDOUZX7s3x9Z0701f8px5lZUn1h9f/2nOdfm/Gk+ao1dO/7e3+8dFw2jSzwdeDnXd/2if92N8bDFMe7B7sjvRx1e43w8OUw8np4f5kPj0aNvcWIwLwzDlORq2LvTVmo+SLFwAUADzMhRQaV9YJyVx8sIIbqYwyT5TPZq5K1wAwAOaN2cSZIVPOl1O6UC17VirkzQyEeVC5MhCymM0MYV6xPHt1AFskVyaSzBmuDuciWx3exFoTv0NSgFsd3saXwUDIsqqKYgU3URk9OAOXXajERofrREtCBsreILDe4VooFfEgkQvfqkhXltiCCgQSocyqmktLjG4SLQhJNjcbW+p3mNUfZMsGCHzYrlCHZm6vzItvmtT7Vph16GDaIy0GcrN+jfPLWJj41i+W5OZ5TLuMVVTwoTDAnBOtorplV239eNTWLrrcJsujJ3Uqu/vanumssqSJJH3pLuHG1c+99yebyueZZ44vvgx3fw6AX7hL+g+o9X4yAAAAAElFTkSuQmCC\" alt=\"Img\" /></td>\n",
              "                        <td id=\"T_02b4db7a_4d3b_11eb_8e2f_0242ac1c0002row3_col1\" class=\"data row3 col1\" >4 (Coat)</td>\n",
              "            </tr>\n",
              "            <tr>\n",
              "                        <th id=\"T_02b4db7a_4d3b_11eb_8e2f_0242ac1c0002level0_row4\" class=\"row_heading level0 row4\" >4</th>\n",
              "                        <td id=\"T_02b4db7a_4d3b_11eb_8e2f_0242ac1c0002row4_col0\" class=\"data row4 col0\" ><img src=\"data:image/png;base64,iVBORw0KGgoAAAANSUhEUgAAABwAAAAcCAAAAABXZoBIAAABNElEQVR4nG3QzUrDQBSG4e+c+UlsSv0pgiJuRN248A70crwTr0XwGnTjQtCVSAURoWApNJLWptUmTWbGVaMwc5bvs/jgEJq7PHrVrqDj6cWq0B9OeWKFiIRurYps7JyfhQGp4vSk5+FZpWJLjsG7Pq7XwsEAxHurxA1aUzOcIFPHPn4rWGmsgZM+znS1dBsRWSIfc3LEn7GpFsbHCbsyurPzyTzz8YMXc33TQSXffHxngrjVFMUvPmaVhqhnKslLH5FKGJRa9xHAgRYWruAshBlRhVxaFcKa5BBPa+iEUEH+YCjMZgjbqA/QQp2E0Ci5gxaLPIT9drKEizrjEN4rlWIo2mkIH0qRYiz4MYSjJWJkJryZFXIdTC74IXzZLey7shfG7S6ybuKaIP/h9cDi6tCMmvALE8J6nUvEEaAAAAAASUVORK5CYII=\" alt=\"Img\" /></td>\n",
              "                        <td id=\"T_02b4db7a_4d3b_11eb_8e2f_0242ac1c0002row4_col1\" class=\"data row4 col1\" >1 (Trouser)</td>\n",
              "            </tr>\n",
              "            <tr>\n",
              "                        <th id=\"T_02b4db7a_4d3b_11eb_8e2f_0242ac1c0002level0_row5\" class=\"row_heading level0 row5\" >5</th>\n",
              "                        <td id=\"T_02b4db7a_4d3b_11eb_8e2f_0242ac1c0002row5_col0\" class=\"data row5 col0\" ><img src=\"data:image/png;base64,iVBORw0KGgoAAAANSUhEUgAAABwAAAAcCAAAAABXZoBIAAABnklEQVR4nM2SPWsUURSG33PunTvj7owTJq7RINnVJCZhiSGCIAS1sVRB/GgEMT/BLrGySmHhfxDtbISU6YIgVoJfBEGSLIKYzeqyO19m5t5r5cemshLf6oWHh/cUB/i/Q7+rD5KDzGLxPAtRbO8cWwHTAGTzYCGw7Bxg0s1YDphkcCbu9ztG1IYCDfC+xR0Z+nHyPd+zF1Dug06jqGRHxptTgTP/h0kE0rjnKi3rYc6pNwv82rQsVDpz+XXkjwknbn9zh9kMXHt6uT1CHKm9tFsLqtc2fppsEC0112dwsPOuJi2yHFMbDGIGyOD2qri/9aULt+Zmmy+evm2dg2RjAVjMXXzy8USjUEkg2u1EnjyESUiDiSuziPPxkcqp6V5o5LCKJnfzTKsQErfmd59RPVrb/nTVCY9yn2ObN8rEqBhUeex75vlWGnTPXko8U5QuWaWNI9L0urwxrVneEaWWnAwZxaO9Dyp2pLG5Nyofvbm5UKiKxxmV1dbm2sv3dx92tCb6fLhOAOCPBVUqe60OAOD43Kv+V4Is/uo9/ml+AOq3lUyeZjVtAAAAAElFTkSuQmCC\" alt=\"Img\" /></td>\n",
              "                        <td id=\"T_02b4db7a_4d3b_11eb_8e2f_0242ac1c0002row5_col1\" class=\"data row5 col1\" >9 (Ankle boot)</td>\n",
              "            </tr>\n",
              "            <tr>\n",
              "                        <th id=\"T_02b4db7a_4d3b_11eb_8e2f_0242ac1c0002level0_row6\" class=\"row_heading level0 row6\" >6</th>\n",
              "                        <td id=\"T_02b4db7a_4d3b_11eb_8e2f_0242ac1c0002row6_col0\" class=\"data row6 col0\" ><img src=\"data:image/png;base64,iVBORw0KGgoAAAANSUhEUgAAABwAAAAcCAAAAABXZoBIAAABwklEQVR4nF3SMWsUURDA8f/Me7ubnJcYuWjwgl6IfQpBiaawMqUgdopg4ScSLO3FQvEDWNnFRovEgKemMApKyMnlwt3uvjcWd7sbnG7mx7w3vHkAgAhnQ//L4e6zTb/Y2nq+DaB1WeDBzmEcD0eD06NxOPxwv64DvL1XjAr7suRt3CU5l7542uDW+99OY5bvDVevhRiDXdx+B3gAnohLS5e7zYlOSmdZLg8bXEdNzCa5MyQKImvUuGJqiKgiGBpcvNyM3Mn9vEwHMFEyX3QaPIlMUlRVRI1sYuXfBhdk8qgVpomG1uNCFhtMQqePxwBCxkEnJg26yP5RO0wfJDveI7gal32EkY9mZhazExDfqfBmqpBh03NJQdLbFW54B3PlzMjA+40KV8pkwPmhAzPT4yUGPr9QDxT9d8/pbEMj0q8u+grF5GOPaDECPtL9pFJjiLzpVTeGkt5r4rhGY/cKYfqTVFjdxUKFifDtEnOzzoyrB5BVKxOB9XL2K7Qs1kC1QhXojWM+bS2KLkiNLYMbbe/AmcRi/g5YWqHXnFvXh2q6YDJK2jsU4irspD/o9zkTf7rL1bSff76CxPlZJPDy1z7wD1Ihq/O32IxYAAAAAElFTkSuQmCC\" alt=\"Img\" /></td>\n",
              "                        <td id=\"T_02b4db7a_4d3b_11eb_8e2f_0242ac1c0002row6_col1\" class=\"data row6 col1\" >2 (Pullover)</td>\n",
              "            </tr>\n",
              "    </tbody></table>"
            ],
            "text/plain": [
              "                                               image  label\n",
              "0  [[[0], [0], [0], [0], [0], [0], [0], [0], [0],...      2\n",
              "1  [[[0], [0], [0], [0], [0], [0], [0], [0], [0],...      1\n",
              "2  [[[0], [0], [0], [0], [0], [0], [0], [0], [0],...      8\n",
              "3  [[[0], [0], [0], [0], [0], [0], [0], [0], [0],...      4\n",
              "4  [[[0], [0], [0], [0], [0], [0], [0], [0], [0],...      1\n",
              "5  [[[0], [0], [0], [0], [0], [0], [0], [0], [0],...      9\n",
              "6  [[[0], [0], [0], [0], [0], [0], [1], [1], [0],...      2"
            ]
          },
          "metadata": {
            "tags": []
          },
          "execution_count": 8
        }
      ]
    },
    {
      "cell_type": "markdown",
      "metadata": {
        "id": "-Fm_eomnxIzT"
      },
      "source": [
        "## **Preparing our Model**"
      ]
    },
    {
      "cell_type": "markdown",
      "metadata": {
        "id": "AYkxQH32F_hc"
      },
      "source": [
        "![Screen Shot 2021-01-04 at 7.09.53 PM.png](data:image/png;base64,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)"
      ]
    },
    {
      "cell_type": "code",
      "metadata": {
        "id": "b6ZmGXjfwzKk"
      },
      "source": [
        "from tensorflow import keras\n",
        "from tensorflow.keras import layers\n",
        "from keras.layers import Conv2D, MaxPooling2D, Flatten, Dense"
      ],
      "execution_count": 4,
      "outputs": []
    },
    {
      "cell_type": "code",
      "metadata": {
        "id": "ikdbNO5bqMFz"
      },
      "source": [
        "# Using the Sequential API Model\n",
        "cnn_model = keras.Sequential()"
      ],
      "execution_count": 5,
      "outputs": []
    },
    {
      "cell_type": "code",
      "metadata": {
        "colab": {
          "base_uri": "https://localhost:8080/"
        },
        "id": "QDkqovjJzLCf",
        "outputId": "6f92f1f6-edb3-4873-cf5d-f827cf066e58"
      },
      "source": [
        "cnn_model.add(Conv2D(30, input_shape=(28, 28, 1), kernel_size=(2,2), strides=(1,1), activation='relu'))\n",
        "cnn_model.add(MaxPooling2D(pool_size=(2,2), strides=(1,1)))\n",
        "\n",
        "cnn_model.add(Conv2D(25, kernel_size=(2,2), strides=(1,1), activation='relu'))\n",
        "cnn_model.add(MaxPooling2D(pool_size=(2,2), strides=(2,2)))\n",
        "\n",
        "cnn_model.add(Conv2D(20, kernel_size=(2,2), strides=(1,1), activation='relu'))\n",
        "cnn_model.add(MaxPooling2D(pool_size=(2,2), strides=(2,2)))\n",
        "\n",
        "cnn_model.compile()\n",
        "\n",
        "cnn_model.add(Flatten())\n",
        "cnn_model.add(Dense(10, activation='softmax'))\n",
        "\n",
        "cnn_model.summary()"
      ],
      "execution_count": 6,
      "outputs": [
        {
          "output_type": "stream",
          "text": [
            "Model: \"sequential\"\n",
            "_________________________________________________________________\n",
            "Layer (type)                 Output Shape              Param #   \n",
            "=================================================================\n",
            "conv2d (Conv2D)              (None, 27, 27, 30)        150       \n",
            "_________________________________________________________________\n",
            "max_pooling2d (MaxPooling2D) (None, 26, 26, 30)        0         \n",
            "_________________________________________________________________\n",
            "conv2d_1 (Conv2D)            (None, 25, 25, 25)        3025      \n",
            "_________________________________________________________________\n",
            "max_pooling2d_1 (MaxPooling2 (None, 12, 12, 25)        0         \n",
            "_________________________________________________________________\n",
            "conv2d_2 (Conv2D)            (None, 11, 11, 20)        2020      \n",
            "_________________________________________________________________\n",
            "max_pooling2d_2 (MaxPooling2 (None, 5, 5, 20)          0         \n",
            "_________________________________________________________________\n",
            "flatten (Flatten)            (None, 500)               0         \n",
            "_________________________________________________________________\n",
            "dense (Dense)                (None, 10)                5010      \n",
            "=================================================================\n",
            "Total params: 10,205\n",
            "Trainable params: 10,205\n",
            "Non-trainable params: 0\n",
            "_________________________________________________________________\n"
          ],
          "name": "stdout"
        }
      ]
    },
    {
      "cell_type": "markdown",
      "metadata": {
        "id": "WxRPoaN4AKDa"
      },
      "source": [
        "## **Data Preprocessing - One Hot Encoding**"
      ]
    },
    {
      "cell_type": "code",
      "metadata": {
        "id": "PLK8idwK_aZ4"
      },
      "source": [
        "X_train = []\n",
        "y_train = []\n",
        "\n",
        "for i in fashion_train:\n",
        "  X_train.append(i['image'])\n",
        "  y_train.append(i['label'])"
      ],
      "execution_count": 7,
      "outputs": []
    },
    {
      "cell_type": "code",
      "metadata": {
        "colab": {
          "base_uri": "https://localhost:8080/"
        },
        "id": "y4NCDla8qdzm",
        "outputId": "fb0cf0fe-c26c-435f-bed8-7ce8ef4c560e"
      },
      "source": [
        "X_train = np.array(X_train)\n",
        "X_train.shape"
      ],
      "execution_count": 8,
      "outputs": [
        {
          "output_type": "execute_result",
          "data": {
            "text/plain": [
              "(36000, 28, 28, 1)"
            ]
          },
          "metadata": {
            "tags": []
          },
          "execution_count": 8
        }
      ]
    },
    {
      "cell_type": "code",
      "metadata": {
        "colab": {
          "base_uri": "https://localhost:8080/"
        },
        "id": "BhQ8KXbGsmuu",
        "outputId": "a17e5a62-b982-4614-95ad-3823dd46b002"
      },
      "source": [
        "y_train = np.array(y_train)\n",
        "y_train.shape\n",
        "y_train"
      ],
      "execution_count": 9,
      "outputs": [
        {
          "output_type": "execute_result",
          "data": {
            "text/plain": [
              "array([2, 1, 8, ..., 1, 7, 2])"
            ]
          },
          "metadata": {
            "tags": []
          },
          "execution_count": 9
        }
      ]
    },
    {
      "cell_type": "code",
      "metadata": {
        "id": "vPt7raURGj_2"
      },
      "source": [
        "y_train = tf.one_hot(y_train, 10)"
      ],
      "execution_count": 10,
      "outputs": []
    },
    {
      "cell_type": "markdown",
      "metadata": {
        "id": "gkPIannoBLi7"
      },
      "source": [
        "## **Compiling and Fitting Model**"
      ]
    },
    {
      "cell_type": "code",
      "metadata": {
        "id": "A-WsQBacNBqS"
      },
      "source": [
        "# Normalize dataset\n",
        "X_train = X_train/255"
      ],
      "execution_count": 11,
      "outputs": []
    },
    {
      "cell_type": "code",
      "metadata": {
        "id": "NeZluaubNUJ3"
      },
      "source": [
        "SGD = tf.keras.optimizers.SGD(learning_rate=0.1, momentum=0.4)"
      ],
      "execution_count": 12,
      "outputs": []
    },
    {
      "cell_type": "code",
      "metadata": {
        "id": "jrIGsYR-NROf"
      },
      "source": [
        "cnn_model.compile(optimizer=SGD, loss='categorical_crossentropy', metrics=['accuracy'])"
      ],
      "execution_count": 13,
      "outputs": []
    },
    {
      "cell_type": "code",
      "metadata": {
        "colab": {
          "base_uri": "https://localhost:8080/"
        },
        "id": "343XhhzWNeNr",
        "outputId": "45bf7bb5-9e51-48c0-89ba-e56d724aaeb7"
      },
      "source": [
        "cnn_model.fit(X_train, y_train, epochs=35, batch_size=150, shuffle=True)"
      ],
      "execution_count": 14,
      "outputs": [
        {
          "output_type": "stream",
          "text": [
            "Epoch 1/35\n",
            "240/240 [==============================] - 8s 5ms/step - loss: 1.3900 - accuracy: 0.5215\n",
            "Epoch 2/35\n",
            "240/240 [==============================] - 1s 4ms/step - loss: 0.5094 - accuracy: 0.8113\n",
            "Epoch 3/35\n",
            "240/240 [==============================] - 1s 4ms/step - loss: 0.4491 - accuracy: 0.8386\n",
            "Epoch 4/35\n",
            "240/240 [==============================] - 1s 4ms/step - loss: 0.4143 - accuracy: 0.8501\n",
            "Epoch 5/35\n",
            "240/240 [==============================] - 1s 4ms/step - loss: 0.3931 - accuracy: 0.8574\n",
            "Epoch 6/35\n",
            "240/240 [==============================] - 1s 4ms/step - loss: 0.3751 - accuracy: 0.8646\n",
            "Epoch 7/35\n",
            "240/240 [==============================] - 1s 4ms/step - loss: 0.3591 - accuracy: 0.8709\n",
            "Epoch 8/35\n",
            "240/240 [==============================] - 1s 4ms/step - loss: 0.3485 - accuracy: 0.8739\n",
            "Epoch 9/35\n",
            "240/240 [==============================] - 1s 4ms/step - loss: 0.3454 - accuracy: 0.8751\n",
            "Epoch 10/35\n",
            "240/240 [==============================] - 1s 4ms/step - loss: 0.3384 - accuracy: 0.8776\n",
            "Epoch 11/35\n",
            "240/240 [==============================] - 1s 4ms/step - loss: 0.3321 - accuracy: 0.8794\n",
            "Epoch 12/35\n",
            "240/240 [==============================] - 1s 4ms/step - loss: 0.3179 - accuracy: 0.8850\n",
            "Epoch 13/35\n",
            "240/240 [==============================] - 1s 4ms/step - loss: 0.3194 - accuracy: 0.8846\n",
            "Epoch 14/35\n",
            "240/240 [==============================] - 1s 4ms/step - loss: 0.3139 - accuracy: 0.8870\n",
            "Epoch 15/35\n",
            "240/240 [==============================] - 1s 4ms/step - loss: 0.3010 - accuracy: 0.8911\n",
            "Epoch 16/35\n",
            "240/240 [==============================] - 1s 4ms/step - loss: 0.3037 - accuracy: 0.8891\n",
            "Epoch 17/35\n",
            "240/240 [==============================] - 1s 4ms/step - loss: 0.2912 - accuracy: 0.8944\n",
            "Epoch 18/35\n",
            "240/240 [==============================] - 1s 4ms/step - loss: 0.2888 - accuracy: 0.8930\n",
            "Epoch 19/35\n",
            "240/240 [==============================] - 1s 4ms/step - loss: 0.2923 - accuracy: 0.8948\n",
            "Epoch 20/35\n",
            "240/240 [==============================] - 1s 4ms/step - loss: 0.2890 - accuracy: 0.8930\n",
            "Epoch 21/35\n",
            "240/240 [==============================] - 1s 4ms/step - loss: 0.2848 - accuracy: 0.8977\n",
            "Epoch 22/35\n",
            "240/240 [==============================] - 1s 4ms/step - loss: 0.2780 - accuracy: 0.8989\n",
            "Epoch 23/35\n",
            "240/240 [==============================] - 1s 4ms/step - loss: 0.2810 - accuracy: 0.8985\n",
            "Epoch 24/35\n",
            "240/240 [==============================] - 1s 4ms/step - loss: 0.2674 - accuracy: 0.9017\n",
            "Epoch 25/35\n",
            "240/240 [==============================] - 1s 4ms/step - loss: 0.2743 - accuracy: 0.8994\n",
            "Epoch 26/35\n",
            "240/240 [==============================] - 1s 4ms/step - loss: 0.2644 - accuracy: 0.9033\n",
            "Epoch 27/35\n",
            "240/240 [==============================] - 1s 4ms/step - loss: 0.2622 - accuracy: 0.9037\n",
            "Epoch 28/35\n",
            "240/240 [==============================] - 1s 4ms/step - loss: 0.2580 - accuracy: 0.9072\n",
            "Epoch 29/35\n",
            "240/240 [==============================] - 1s 4ms/step - loss: 0.2671 - accuracy: 0.9021\n",
            "Epoch 30/35\n",
            "240/240 [==============================] - 1s 4ms/step - loss: 0.2637 - accuracy: 0.9025\n",
            "Epoch 31/35\n",
            "240/240 [==============================] - 1s 4ms/step - loss: 0.2566 - accuracy: 0.9064\n",
            "Epoch 32/35\n",
            "240/240 [==============================] - 1s 4ms/step - loss: 0.2544 - accuracy: 0.9063\n",
            "Epoch 33/35\n",
            "240/240 [==============================] - 1s 4ms/step - loss: 0.2535 - accuracy: 0.9068\n",
            "Epoch 34/35\n",
            "240/240 [==============================] - 1s 4ms/step - loss: 0.2559 - accuracy: 0.9076\n",
            "Epoch 35/35\n",
            "240/240 [==============================] - 1s 4ms/step - loss: 0.2461 - accuracy: 0.9092\n"
          ],
          "name": "stdout"
        },
        {
          "output_type": "execute_result",
          "data": {
            "text/plain": [
              "<tensorflow.python.keras.callbacks.History at 0x7f34bc38f470>"
            ]
          },
          "metadata": {
            "tags": []
          },
          "execution_count": 14
        }
      ]
    },
    {
      "cell_type": "code",
      "metadata": {
        "id": "ZDkkqY_ZN2a-"
      },
      "source": [
        "X_test = []\n",
        "y_test = []\n",
        "\n",
        "for k in fashion_test:\n",
        "  X_test.append(k['image'])\n",
        "  y_test.append(k['label'])"
      ],
      "execution_count": 15,
      "outputs": []
    },
    {
      "cell_type": "code",
      "metadata": {
        "colab": {
          "base_uri": "https://localhost:8080/"
        },
        "id": "zJLlFiaNOz20",
        "outputId": "995c4fdc-b165-48a8-c4d6-357899a211cb"
      },
      "source": [
        "X_test = np.array(X_test)\n",
        "X_test.shape"
      ],
      "execution_count": 16,
      "outputs": [
        {
          "output_type": "execute_result",
          "data": {
            "text/plain": [
              "(10000, 28, 28, 1)"
            ]
          },
          "metadata": {
            "tags": []
          },
          "execution_count": 16
        }
      ]
    },
    {
      "cell_type": "code",
      "metadata": {
        "id": "p5mGURNiO2A2"
      },
      "source": [
        "# Normalize testing datset\n",
        "X_test = X_test/255"
      ],
      "execution_count": 17,
      "outputs": []
    },
    {
      "cell_type": "code",
      "metadata": {
        "colab": {
          "base_uri": "https://localhost:8080/"
        },
        "id": "pP156_zkO4ro",
        "outputId": "681c3b6e-fc7f-4fa7-97ac-be42c4ef2210"
      },
      "source": [
        "y_test = np.array(y_test)\n",
        "y_test = tf.one_hot(y_test, 10)\n",
        "y_test"
      ],
      "execution_count": 18,
      "outputs": [
        {
          "output_type": "execute_result",
          "data": {
            "text/plain": [
              "<tf.Tensor: shape=(10000, 10), dtype=float32, numpy=\n",
              "array([[0., 0., 0., ..., 0., 0., 0.],\n",
              "       [0., 0., 0., ..., 0., 0., 0.],\n",
              "       [0., 0., 0., ..., 0., 0., 1.],\n",
              "       ...,\n",
              "       [0., 0., 0., ..., 0., 0., 0.],\n",
              "       [0., 0., 0., ..., 0., 0., 0.],\n",
              "       [0., 1., 0., ..., 0., 0., 0.]], dtype=float32)>"
            ]
          },
          "metadata": {
            "tags": []
          },
          "execution_count": 18
        }
      ]
    },
    {
      "cell_type": "code",
      "metadata": {
        "id": "36g3CZwBPEeI"
      },
      "source": [
        "y_test_1 = []\n",
        "\n",
        "for k in fashion_test:\n",
        "  y_test_1.append(k['label'])"
      ],
      "execution_count": 19,
      "outputs": []
    },
    {
      "cell_type": "code",
      "metadata": {
        "id": "zbNKF7F2PGWR"
      },
      "source": [
        "y_test_1 = np.array(y_test_1)"
      ],
      "execution_count": 20,
      "outputs": []
    },
    {
      "cell_type": "markdown",
      "metadata": {
        "id": "cGpWGWDYO80n"
      },
      "source": [
        "## **Evaluating the model**"
      ]
    },
    {
      "cell_type": "code",
      "metadata": {
        "colab": {
          "base_uri": "https://localhost:8080/"
        },
        "id": "KlNHa1_jPAKB",
        "outputId": "3f34c74e-0ea5-4bd6-d9f5-fa0b5d9baecb"
      },
      "source": [
        "cnn_model.evaluate(X_test, y_test)"
      ],
      "execution_count": 21,
      "outputs": [
        {
          "output_type": "stream",
          "text": [
            "313/313 [==============================] - 1s 2ms/step - loss: 0.3400 - accuracy: 0.8792\n"
          ],
          "name": "stdout"
        },
        {
          "output_type": "execute_result",
          "data": {
            "text/plain": [
              "[0.339969277381897, 0.8791999816894531]"
            ]
          },
          "metadata": {
            "tags": []
          },
          "execution_count": 21
        }
      ]
    },
    {
      "cell_type": "code",
      "metadata": {
        "colab": {
          "base_uri": "https://localhost:8080/"
        },
        "id": "FiPcjaekPQh8",
        "outputId": "e0c67fd2-2311-4f3a-81f1-2f6e6a6c452f"
      },
      "source": [
        "predictions = cnn_model.predict_classes(X_test)"
      ],
      "execution_count": 22,
      "outputs": [
        {
          "output_type": "stream",
          "text": [
            "/usr/local/lib/python3.6/dist-packages/tensorflow/python/keras/engine/sequential.py:450: UserWarning: `model.predict_classes()` is deprecated and will be removed after 2021-01-01. Please use instead:* `np.argmax(model.predict(x), axis=-1)`,   if your model does multi-class classification   (e.g. if it uses a `softmax` last-layer activation).* `(model.predict(x) > 0.5).astype(\"int32\")`,   if your model does binary classification   (e.g. if it uses a `sigmoid` last-layer activation).\n",
            "  warnings.warn('`model.predict_classes()` is deprecated and '\n"
          ],
          "name": "stderr"
        }
      ]
    },
    {
      "cell_type": "code",
      "metadata": {
        "colab": {
          "base_uri": "https://localhost:8080/"
        },
        "id": "m-OyZBtvPcJX",
        "outputId": "9e83f32c-771a-4528-b649-c8064b9fb59b"
      },
      "source": [
        "print('Predicted Class, Target Class')\n",
        "\n",
        "for x in np.arange(100):\n",
        "  print(predictions[x], y_test_1[x])"
      ],
      "execution_count": 24,
      "outputs": [
        {
          "output_type": "stream",
          "text": [
            "Predicted Class, Target Class\n",
            "6 4\n",
            "6 4\n",
            "9 9\n",
            "7 7\n",
            "5 5\n",
            "1 1\n",
            "0 0\n",
            "5 5\n",
            "7 7\n",
            "4 4\n",
            "0 0\n",
            "8 8\n",
            "2 2\n",
            "3 3\n",
            "9 9\n",
            "0 0\n",
            "5 7\n",
            "7 7\n",
            "2 2\n",
            "2 2\n",
            "6 0\n",
            "4 4\n",
            "4 4\n",
            "4 4\n",
            "2 2\n",
            "7 7\n",
            "7 7\n",
            "4 4\n",
            "2 2\n",
            "2 4\n",
            "7 7\n",
            "5 5\n",
            "9 9\n",
            "5 5\n",
            "4 4\n",
            "4 4\n",
            "3 3\n",
            "3 3\n",
            "1 1\n",
            "7 7\n",
            "5 5\n",
            "3 3\n",
            "0 0\n",
            "0 0\n",
            "0 0\n",
            "6 6\n",
            "9 9\n",
            "9 9\n",
            "7 7\n",
            "6 6\n",
            "2 2\n",
            "0 0\n",
            "0 0\n",
            "9 9\n",
            "6 6\n",
            "1 1\n",
            "5 5\n",
            "7 7\n",
            "0 0\n",
            "2 2\n",
            "1 1\n",
            "9 9\n",
            "7 7\n",
            "2 2\n",
            "4 4\n",
            "0 6\n",
            "2 2\n",
            "2 2\n",
            "6 6\n",
            "5 5\n",
            "1 1\n",
            "7 5\n",
            "2 6\n",
            "2 2\n",
            "3 3\n",
            "6 6\n",
            "4 4\n",
            "6 6\n",
            "4 4\n",
            "0 6\n",
            "4 4\n",
            "5 5\n",
            "8 8\n",
            "9 9\n",
            "2 2\n",
            "5 5\n",
            "1 1\n",
            "9 9\n",
            "7 9\n",
            "1 1\n",
            "4 4\n",
            "1 1\n",
            "0 0\n",
            "5 5\n",
            "8 8\n",
            "0 0\n",
            "4 4\n",
            "2 2\n",
            "0 0\n",
            "0 0\n"
          ],
          "name": "stdout"
        }
      ]
    }
  ]
}